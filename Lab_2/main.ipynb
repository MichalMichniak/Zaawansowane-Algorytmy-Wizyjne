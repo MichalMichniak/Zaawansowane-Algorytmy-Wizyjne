{
 "cells": [
  {
   "cell_type": "markdown",
   "metadata": {},
   "source": [
    "Zadanie. 2.1"
   ]
  },
  {
   "cell_type": "code",
   "execution_count": 1,
   "metadata": {},
   "outputs": [],
   "source": [
    "import cv2\n",
    "\n",
    "\n",
    "for i in range (300 ,1100, 3) :\n",
    "    I = cv2.imread (f'pedestrian/input/in{i:06d}.jpg' )\n",
    "    cv2.imshow (\"I\",I)\n",
    "    cv2.waitKey (10)\n",
    "cv2.destroyAllWindows()"
   ]
  },
  {
   "cell_type": "markdown",
   "metadata": {},
   "source": [
    "Zadanie 2.2"
   ]
  },
  {
   "cell_type": "code",
   "execution_count": 6,
   "metadata": {},
   "outputs": [],
   "source": [
    "import numpy as np\n",
    "\n",
    "def first_plan(I, I_prev):\n",
    "    filter_cl = np.ones([3,3])\n",
    "    diff = I - I_prev\n",
    "    temp = np.abs(diff).astype(np.uint8)\n",
    "    # temp = (np.sum(temp,axis=2)/3).astype(np.uint8)\n",
    "    \n",
    "    binary_I = (temp>15)\n",
    "    binary_I = binary_I.astype(np.uint8)*255\n",
    "    binary_I = (np.sum(binary_I,axis=2)/3).astype(np.uint8)\n",
    "    binary_I = cv2.medianBlur(binary_I,7)\n",
    "\n",
    "    # binary_I_closure = cv2.erode(binary_I,filter_cl)\n",
    "    binary_I_closure = cv2.erode(binary_I,filter_cl,iterations=2)\n",
    "    # binary_I_closure = cv2.medianBlur(binary_I_closure,3)\n",
    "    binary_I_closure = cv2.dilate(binary_I_closure,filter_cl,iterations=7)\n",
    "    binary_I_closure = cv2.erode(binary_I_closure,filter_cl,iterations=3)\n",
    "    return binary_I_closure\n",
    "\n",
    "    "
   ]
  },
  {
   "cell_type": "code",
   "execution_count": 11,
   "metadata": {},
   "outputs": [],
   "source": [
    "import cv2\n",
    "import numpy as np\n",
    "import copy\n",
    "I_prev = cv2.imread (f'pedestrian/input/in{300:06d}.jpg' )\n",
    "I_prev = I_prev.astype('int')\n",
    "\n",
    "# filter_cl = np.array([[0,1,0],[1,1,1],[0,1,0]]).astype(np.uint8)\n",
    "\n",
    "for i in range (301 ,1100):\n",
    "    I = cv2.imread (f'pedestrian/input/in{i:06d}.jpg')\n",
    "    I = I.astype('int')\n",
    "    binary_I_closure = first_plan(I, I_prev)\n",
    "    retval , labels , stats , centroids = cv2.connectedComponentsWithStats(copy.deepcopy(binary_I_closure))\n",
    "\n",
    "    I_VIS = copy.deepcopy(I) # copy of the input image\n",
    "    if ( stats . shape [0] > 1) : # are there any objects\n",
    "        tab = stats [1: ,4] # 4 columns without first element\n",
    "        pi = np . argmax ( tab )# finding the index of the largest item\n",
    "        pi = pi + 1 # increment because we want the index in stats , not in tab\n",
    "        cv2 . rectangle ( I_VIS ,( stats [pi ,0] , stats [pi ,1]) ,( stats [ pi ,0]+ stats [ pi ,2] , stats [ pi ,1]+ stats [ pi ,3]) ,(255 ,0 ,0) ,2)\n",
    "        # print information about the field and the number of the largest element\n",
    "        cv2 . putText ( I_VIS ,\"%f\" % stats [pi ,4] ,( stats [ pi ,0] , stats [ pi ,1]) , cv2 .FONT_HERSHEY_SIMPLEX ,0.5 ,(255 ,0 ,0) )\n",
    "        cv2 . putText ( I_VIS ,\"%d\" %pi ,( np.int32 ( centroids [ pi ,0]) ,np.int32 ( centroids [ pi ,1]) ) , cv2.FONT_HERSHEY_SIMPLEX ,1 ,(255 ,0 ,0) )\n",
    "\n",
    "\n",
    "    # cv2.imshow (\"I\", binary_I_closure)\n",
    "    # cv2.waitKey (5)\n",
    "    cv2.imshow (\"I\", I_VIS.astype(np.uint8))\n",
    "    cv2 . imshow (\" Labels \", np . uint8 ( labels / retval * 255) )\n",
    "\n",
    "    cv2.waitKey (10)\n",
    "    I_prev = I\n",
    "cv2.destroyAllWindows()"
   ]
  },
  {
   "cell_type": "markdown",
   "metadata": {},
   "source": [
    "##### Zadanie 3"
   ]
  },
  {
   "cell_type": "code",
   "execution_count": 10,
   "metadata": {},
   "outputs": [
    {
     "name": "stdout",
     "output_type": "stream",
     "text": [
      "Precision: 0.789187979748122, Recall: 0.4489504173833063, F1: 0.5723209517169964\n",
      "\n"
     ]
    }
   ],
   "source": [
    "I_prev = cv2.imread (f'pedestrian/input/in{300:06d}.jpg' )\n",
    "I_prev = I_prev.astype('int')\n",
    "\n",
    "TP = 0\n",
    "TN = 0\n",
    "FP = 0\n",
    "FN = 0\n",
    "\n",
    "for i in range (301 ,1100):\n",
    "    I = cv2.imread (f'pedestrian/input/in{i:06d}.jpg')\n",
    "    I_ground = cv2.imread (f'pedestrian/groundtruth/gt{i:06d}.png')\n",
    "    I_ground = (np.sum(I_ground,axis=2)/3).astype(np.uint8)\n",
    "    I_ground_b = I_ground>10\n",
    "    I = I.astype('int')\n",
    "    binary_I_closure = first_plan(I, I_prev)\n",
    "    binary_I_b = binary_I_closure>170\n",
    "    TP_s = np.sum((I_ground_b & binary_I_b).astype(int))\n",
    "    TN_s = np.sum((~I_ground_b & ~binary_I_b).astype(int))\n",
    "    FP_s = np.sum((~I_ground_b & binary_I_b).astype(int))\n",
    "    FN_s = np.sum((I_ground_b & ~binary_I_b).astype(int))\n",
    "    TP+=TP_s\n",
    "    TN+=TN_s\n",
    "    FP+=FP_s\n",
    "    FN+=FN_s\n",
    "    I_prev = I\n",
    "\n",
    "precision = TP/(TP+FP)\n",
    "recall = TP/(TP+FN)\n",
    "print(f\"Precision: {precision}, Recall: {recall}, F1: {(2*precision*recall/(precision+recall))}\\n\")\n",
    "cv2.destroyAllWindows()"
   ]
  },
  {
   "cell_type": "code",
   "execution_count": 12,
   "metadata": {},
   "outputs": [],
   "source": [
    "import cv2\n",
    "import numpy as np\n",
    "import copy\n",
    "I_prev = cv2.imread (f'highway/input/in{470:06d}.jpg' )\n",
    "I_prev = I_prev.astype('int')\n",
    "\n",
    "# filter_cl = np.array([[0,1,0],[1,1,1],[0,1,0]]).astype(np.uint8)\n",
    "\n",
    "for i in range (471 ,1701):\n",
    "    I = cv2.imread (f'highway/input/in{i:06d}.jpg')\n",
    "    I = I.astype('int')\n",
    "    binary_I_closure = first_plan(I, I_prev)\n",
    "    retval , labels , stats , centroids = cv2.connectedComponentsWithStats(copy.deepcopy(binary_I_closure))\n",
    "\n",
    "    I_VIS = copy.deepcopy(I) # copy of the input image\n",
    "    if ( stats . shape [0] > 1) : # are there any objects\n",
    "        tab = stats [1: ,4] # 4 columns without first element\n",
    "        pi = np . argmax ( tab )# finding the index of the largest item\n",
    "        pi = pi + 1 # increment because we want the index in stats , not in tab\n",
    "        cv2 . rectangle ( I_VIS ,( stats [pi ,0] , stats [pi ,1]) ,( stats [ pi ,0]+ stats [ pi ,2] , stats [ pi ,1]+ stats [ pi ,3]) ,(255 ,0 ,0) ,2)\n",
    "        # print information about the field and the number of the largest element\n",
    "        cv2 . putText ( I_VIS ,\"%f\" % stats [pi ,4] ,( stats [ pi ,0] , stats [ pi ,1]) , cv2 .FONT_HERSHEY_SIMPLEX ,0.5 ,(255 ,0 ,0) )\n",
    "        cv2 . putText ( I_VIS ,\"%d\" %pi ,( np.int32 ( centroids [ pi ,0]) ,np.int32 ( centroids [ pi ,1]) ) , cv2.FONT_HERSHEY_SIMPLEX ,1 ,(255 ,0 ,0) )\n",
    "\n",
    "\n",
    "    # cv2.imshow (\"I\", binary_I_closure)\n",
    "    # cv2.waitKey (5)\n",
    "    cv2.imshow (\"I\", I_VIS.astype(np.uint8))\n",
    "    cv2 . imshow (\" Labels \", np . uint8 ( labels / retval * 255) )\n",
    "\n",
    "    cv2.waitKey (10)\n",
    "    I_prev = I\n",
    "cv2.destroyAllWindows()"
   ]
  },
  {
   "cell_type": "code",
   "execution_count": 46,
   "metadata": {},
   "outputs": [
    {
     "name": "stdout",
     "output_type": "stream",
     "text": [
      "Precision: 0.90927052555022, Recall: 0.701841314090859, F1: 0.7922027568966553\n",
      "\n"
     ]
    }
   ],
   "source": [
    "I_prev = cv2.imread (f'highway/input/in{470:06d}.jpg' )\n",
    "I_prev = I_prev.astype('int')\n",
    "\n",
    "TP = 0\n",
    "TN = 0\n",
    "FP = 0\n",
    "FN = 0\n",
    "\n",
    "for i in range (471 ,1701):\n",
    "    I = cv2.imread (f'highway/input/in{i:06d}.jpg')\n",
    "    I_ground = cv2.imread (f'highway/groundtruth/gt{i:06d}.png')\n",
    "    I_ground = (np.sum(I_ground,axis=2)/3).astype(np.uint8)\n",
    "    I_ground_b = I_ground>10\n",
    "    I = I.astype('int')\n",
    "    binary_I_closure = first_plan(I, I_prev)\n",
    "    binary_I_b = binary_I_closure>10\n",
    "    TP_s = np.sum((I_ground_b & binary_I_b).astype(int))\n",
    "    TN_s = np.sum((~I_ground_b & ~binary_I_b).astype(int))\n",
    "    FP_s = np.sum((~I_ground_b & binary_I_b).astype(int))\n",
    "    FN_s = np.sum((I_ground_b & ~binary_I_b).astype(int))\n",
    "    TP+=TP_s\n",
    "    TN+=TN_s\n",
    "    FP+=FP_s\n",
    "    FN+=FN_s\n",
    "    I_prev = I\n",
    "\n",
    "precision = TP/(TP+FP)\n",
    "recall = TP/(TP+FN)\n",
    "print(f\"Precision: {precision}, Recall: {recall}, F1: {(2*precision*recall/(precision+recall))}\\n\")\n",
    "cv2.destroyAllWindows()"
   ]
  },
  {
   "cell_type": "code",
   "execution_count": 54,
   "metadata": {},
   "outputs": [],
   "source": [
    "def first_plan_office(I, I_prev):\n",
    "    filter_cl = np.ones([3,3])\n",
    "    diff = I - I_prev\n",
    "    temp = np.abs(diff).astype(np.uint8)\n",
    "    # temp = (np.sum(temp,axis=2)/3).astype(np.uint8)\n",
    "    \n",
    "    binary_I = (temp>15)\n",
    "    binary_I = binary_I.astype(np.uint8)*255\n",
    "    binary_I = (np.sum(binary_I,axis=2)/3).astype(np.uint8)\n",
    "    binary_I = cv2.medianBlur(binary_I,3)\n",
    "\n",
    "    # binary_I_closure = cv2.erode(binary_I,filter_cl)\n",
    "    binary_I_closure = cv2.erode(binary_I,filter_cl,iterations=1)\n",
    "    # binary_I_closure = cv2.medianBlur(binary_I_closure,3)\n",
    "    binary_I_closure = cv2.dilate(binary_I_closure,filter_cl,iterations=7)\n",
    "    binary_I_closure = cv2.erode(binary_I_closure,filter_cl,iterations=3)\n",
    "    return binary_I_closure"
   ]
  },
  {
   "cell_type": "code",
   "execution_count": 56,
   "metadata": {},
   "outputs": [],
   "source": [
    "import cv2\n",
    "import numpy as np\n",
    "import copy\n",
    "I_prev = cv2.imread (f'office/input/in{570:06d}.jpg' )\n",
    "I_prev = I_prev.astype('int')\n",
    "\n",
    "# filter_cl = np.array([[0,1,0],[1,1,1],[0,1,0]]).astype(np.uint8)\n",
    "\n",
    "for i in range (571 ,2051):\n",
    "    I = cv2.imread (f'office/input/in{i:06d}.jpg')\n",
    "    I = I.astype('int')\n",
    "    binary_I_closure = first_plan_office(I, I_prev)\n",
    "    retval , labels , stats , centroids = cv2.connectedComponentsWithStats(copy.deepcopy(binary_I_closure))\n",
    "\n",
    "    I_VIS = copy.deepcopy(I) # copy of the input image\n",
    "    if ( stats . shape [0] > 1) : # are there any objects\n",
    "        tab = stats [1: ,4] # 4 columns without first element\n",
    "        pi = np . argmax ( tab )# finding the index of the largest item\n",
    "        pi = pi + 1 # increment because we want the index in stats , not in tab\n",
    "        cv2 . rectangle ( I_VIS ,( stats [pi ,0] , stats [pi ,1]) ,( stats [ pi ,0]+ stats [ pi ,2] , stats [ pi ,1]+ stats [ pi ,3]) ,(255 ,0 ,0) ,2)\n",
    "        # print information about the field and the number of the largest element\n",
    "        cv2 . putText ( I_VIS ,\"%f\" % stats [pi ,4] ,( stats [ pi ,0] , stats [ pi ,1]) , cv2 .FONT_HERSHEY_SIMPLEX ,0.5 ,(255 ,0 ,0) )\n",
    "        cv2 . putText ( I_VIS ,\"%d\" %pi ,( np.int32 ( centroids [ pi ,0]) ,np.int32 ( centroids [ pi ,1]) ) , cv2.FONT_HERSHEY_SIMPLEX ,1 ,(255 ,0 ,0) )\n",
    "\n",
    "\n",
    "    # cv2.imshow (\"I\", binary_I_closure)\n",
    "    # cv2.waitKey (5)\n",
    "    cv2.imshow (\"I\", I_VIS.astype(np.uint8))\n",
    "    cv2 . imshow (\" Labels \", np . uint8 ( labels / retval * 255) )\n",
    "\n",
    "    cv2.waitKey (10)\n",
    "    I_prev = I\n",
    "cv2.destroyAllWindows()"
   ]
  },
  {
   "cell_type": "code",
   "execution_count": 57,
   "metadata": {},
   "outputs": [
    {
     "name": "stdout",
     "output_type": "stream",
     "text": [
      "Precision: 0.8115158616862816, Recall: 0.18339040715030167, F1: 0.29917235210027604\n",
      "\n"
     ]
    }
   ],
   "source": [
    "I_prev = cv2.imread (f'office/input/in{570:06d}.jpg' )\n",
    "I_prev = I_prev.astype('int')\n",
    "\n",
    "TP = 0\n",
    "TN = 0\n",
    "FP = 0\n",
    "FN = 0\n",
    "\n",
    "for i in range (571 ,2051):\n",
    "    I = cv2.imread (f'office/input/in{i:06d}.jpg')\n",
    "    I_ground = cv2.imread (f'office/groundtruth/gt{i:06d}.png')\n",
    "    I_ground = (np.sum(I_ground,axis=2)/3).astype(np.uint8)\n",
    "    I_ground_b = I_ground>10\n",
    "    I = I.astype('int')\n",
    "    binary_I_closure = first_plan_office(I, I_prev)\n",
    "    binary_I_b = binary_I_closure>10\n",
    "    TP_s = np.sum((I_ground_b & binary_I_b).astype(int))\n",
    "    TN_s = np.sum((~I_ground_b & ~binary_I_b).astype(int))\n",
    "    FP_s = np.sum((~I_ground_b & binary_I_b).astype(int))\n",
    "    FN_s = np.sum((I_ground_b & ~binary_I_b).astype(int))\n",
    "    TP+=TP_s\n",
    "    TN+=TN_s\n",
    "    FP+=FP_s\n",
    "    FN+=FN_s\n",
    "    I_prev = I\n",
    "\n",
    "precision = TP/(TP+FP)\n",
    "recall = TP/(TP+FN)\n",
    "print(f\"Precision: {precision}, Recall: {recall}, F1: {(2*precision*recall/(precision+recall))}\\n\")\n",
    "cv2.destroyAllWindows()"
   ]
  }
 ],
 "metadata": {
  "kernelspec": {
   "display_name": "Python 3",
   "language": "python",
   "name": "python3"
  },
  "language_info": {
   "codemirror_mode": {
    "name": "ipython",
    "version": 3
   },
   "file_extension": ".py",
   "mimetype": "text/x-python",
   "name": "python",
   "nbconvert_exporter": "python",
   "pygments_lexer": "ipython3",
   "version": "3.9.0"
  }
 },
 "nbformat": 4,
 "nbformat_minor": 2
}
