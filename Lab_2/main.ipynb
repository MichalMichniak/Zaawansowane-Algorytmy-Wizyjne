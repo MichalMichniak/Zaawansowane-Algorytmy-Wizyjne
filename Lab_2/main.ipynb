{
 "cells": [
  {
   "cell_type": "markdown",
   "metadata": {},
   "source": [
    "Zadanie. 2.1"
   ]
  },
  {
   "cell_type": "code",
   "execution_count": 1,
   "metadata": {},
   "outputs": [],
   "source": [
    "import cv2\n",
    "\n",
    "\n",
    "for i in range (300 ,1100, 3) :\n",
    "    I = cv2.imread (f'pedestrian/input/in{i:06d}.jpg' )\n",
    "    cv2.imshow (\"I\",I)\n",
    "    cv2.waitKey (10)\n"
   ]
  },
  {
   "cell_type": "markdown",
   "metadata": {},
   "source": [
    "Zadanie 2.2"
   ]
  },
  {
   "cell_type": "code",
   "execution_count": 3,
   "metadata": {},
   "outputs": [],
   "source": [
    "import cv2\n",
    "import numpy as np\n",
    "I_prev = cv2.imread (f'pedestrian/input/in{300:06d}.jpg' )\n",
    "I_prev = I_prev.astype('int')\n",
    "\n",
    "# filter_cl = np.array([[0,1,0],[1,1,1],[0,1,0]]).astype(np.uint8)\n",
    "filter_cl = np.ones([3,3])\n",
    "for i in range (301 ,1100):\n",
    "    I = cv2.imread (f'pedestrian/input/in{i:06d}.jpg')\n",
    "    I = I.astype('int')\n",
    "    diff = I - I_prev\n",
    "    temp = np.abs(diff).astype(np.uint8)\n",
    "    temp = (np.sum(temp,axis=2)/3).astype(np.uint8)\n",
    "    \n",
    "    binary_I = (temp>15)\n",
    "    binary_I = binary_I.astype(np.uint8)*255\n",
    "    \n",
    "    binary_I = cv2.medianBlur(temp,5)\n",
    "    # binary_I_closure = cv2.erode(binary_I,filter_cl)\n",
    "    binary_I_closure = cv2.erode(binary_I,filter_cl,iterations=1)\n",
    "    binary_I_closure = cv2.dilate(binary_I,filter_cl,iterations=1)\n",
    "    \n",
    "    retval , labels , stats , centroids = cv2 . connectedComponentsWithStats (binary_I_closure)\n",
    "\n",
    "    I_VIS = I # copy of the input image\n",
    "    if ( stats . shape [0] > 1) : # are there any objects\n",
    "        tab = stats [1: ,4] # 4 columns without first element\n",
    "        pi = np . argmax ( tab )# finding the index of the largest item\n",
    "        pi = pi + 1 # increment because we want the index in stats , not in tab\n",
    "        cv2 . rectangle ( I_VIS ,( stats [pi ,0] , stats [pi ,1]) ,( stats [ pi ,0]+ stats [ pi ,2] , stats [ pi ,1]+ stats [ pi ,3]) ,(255 ,0 ,0) ,2)\n",
    "        # print information about the field and the number of the largest element\n",
    "        cv2 . putText ( I_VIS ,\"%f\" % stats [pi ,4] ,( stats [ pi ,0] , stats [ pi ,1]) , cv2 .FONT_HERSHEY_SIMPLEX ,0.5 ,(255 ,0 ,0) )\n",
    "        cv2 . putText ( I_VIS ,\"%d\" %pi ,( np.int32 ( centroids [ pi ,0]) ,np.int32 ( centroids [ pi ,1]) ) , cv2.FONT_HERSHEY_SIMPLEX ,1 ,(255 ,0 ,0) )\n",
    "\n",
    "\n",
    "    cv2.imshow (\"I\", binary_I_closure)\n",
    "    cv2.waitKey (5)\n",
    "    # cv2.imshow (\"I\", I_VIS.astype(np.uint8))\n",
    "    # cv2 . imshow (\" Labels \", np . uint8 ( labels / retval * 255) )\n",
    "\n",
    "    # cv2.waitKey (10)\n",
    "    I_prev = I\n",
    "cv2.destroyAllWindows()"
   ]
  },
  {
   "cell_type": "code",
   "execution_count": null,
   "metadata": {},
   "outputs": [],
   "source": []
  }
 ],
 "metadata": {
  "kernelspec": {
   "display_name": "Python 3",
   "language": "python",
   "name": "python3"
  },
  "language_info": {
   "codemirror_mode": {
    "name": "ipython",
    "version": 3
   },
   "file_extension": ".py",
   "mimetype": "text/x-python",
   "name": "python",
   "nbconvert_exporter": "python",
   "pygments_lexer": "ipython3",
   "version": "3.9.0"
  }
 },
 "nbformat": 4,
 "nbformat_minor": 2
}
