{
 "cells": [
  {
   "cell_type": "code",
   "execution_count": 12,
   "metadata": {},
   "outputs": [
    {
     "name": "stdout",
     "output_type": "stream",
     "text": [
      " Chessboard couldn ’t detected . Image pair :  30\n"
     ]
    }
   ],
   "source": [
    "import cv2\n",
    "import numpy as np\n",
    "import matplotlib . pyplot as plt\n",
    "# termination criteria\n",
    "criteria = ( cv2 . TERM_CRITERIA_EPS + cv2 . TERM_CRITERIA_MAX_ITER , 30 , 0.001)\n",
    "calibration_flags = cv2.fisheye.CALIB_RECOMPUTE_EXTRINSIC + cv2.fisheye.CALIB_FIX_SKEW\n",
    "# inner size of chessboard\n",
    "width = 9\n",
    "height = 6\n",
    "square_size = 0.025 # 0.025 meters\n",
    "# prepare object points , like (0 ,0 ,0) , (1 ,0 ,0) , (2 ,0 ,0) .... ,(8 ,6 ,0)\n",
    "objp = np . zeros (( height * width , 1, 3) , np . float64 )\n",
    "objp [: , 0, :2] = np . mgrid [0: width , 0: height ]. T. reshape ( -1 , 2)\n",
    "objp = objp * square_size # Create real world coords . Use your metric .\n",
    "# Arrays to store object points and image points from all the images .\n",
    "objpoints = [] # 3d point in real world space\n",
    "imgpoints = [] # 2d points in image plane .\n",
    "img_width = 640\n",
    "img_height = 480\n",
    "image_size = ( img_width , img_height )\n",
    "path = \"\"\n",
    "image_dir = path + \"pairs/\"\n",
    "number_of_images = 50\n",
    "for i in range (1 , number_of_images ):\n",
    "    # read image\n",
    "    img = cv2 . imread ( image_dir +\"left_%02d.png\"%i)\n",
    "    gray = cv2 . cvtColor ( img , cv2 . COLOR_BGR2GRAY )\n",
    "    # Find the chess board corners\n",
    "    ret , corners = cv2 . findChessboardCorners ( gray , ( width , height ) , cv2 .\n",
    "    CALIB_CB_ADAPTIVE_THRESH + cv2 . CALIB_CB_FAST_CHECK + cv2 .\n",
    "    CALIB_CB_NORMALIZE_IMAGE )\n",
    "    Y , X , channels = img . shape\n",
    "    # skip images where the corners of the chessboard are too close to the edges of the image\n",
    "    if ( ret == True ) :\n",
    "        minRx = corners [: ,: ,0]. min ()\n",
    "        maxRx = corners [: ,: ,0]. max ()\n",
    "        minRy = corners [: ,: ,1]. min ()\n",
    "        maxRy = corners [: ,: ,1]. max ()\n",
    "        border_threshold_x = X /12\n",
    "        border_threshold_y = Y /12\n",
    "        x_thresh_bad = False\n",
    "        if ( minRx < border_threshold_x ):\n",
    "            x_thresh_bad = True\n",
    "        y_thresh_bad = False\n",
    "        if ( minRy < border_threshold_y ):\n",
    "            y_thresh_bad = True\n",
    "        if ( y_thresh_bad == True ) or ( x_thresh_bad == True ):\n",
    "            continue\n",
    "    # If found , add object points , image points ( after refining them )\n",
    "    if ret == True :\n",
    "        objpoints . append ( objp )\n",
    "        # improving the location of points (sub - pixel )\n",
    "        corners2 = cv2 . cornerSubPix ( gray , corners , (3 , 3) , ( -1 , -1) , criteria )\n",
    "        imgpoints . append ( corners2 )\n",
    "        # Draw and display the corners\n",
    "        # Show the image to see if pattern is found ! imshow function .\n",
    "        cv2 . drawChessboardCorners ( img , ( width , height ) , corners2 , ret )\n",
    "        cv2 . imshow (\" Corners \", img )\n",
    "        cv2 . waitKey (20)\n",
    "    else :\n",
    "        print (\" Chessboard couldn ’t detected . Image pair : \", i)\n",
    "        continue\n",
    "N_OK = len ( objpoints )\n",
    "K = np . zeros ((3 , 3) )\n",
    "D = np . zeros ((4 , 1) )\n",
    "rvecs = [ np . zeros ((1 , 1 , 3) , dtype = np . float64 ) for i in range ( N_OK )]\n",
    "tvecs = [ np . zeros ((1 , 1 , 3) , dtype = np . float64 ) for i in range ( N_OK )]\n",
    "ret , K , D , _ , _ = cv2 . fisheye . calibrate (objpoints ,imgpoints ,image_size ,K ,D ,rvecs ,tvecs ,calibration_flags,( cv2 . TERM_CRITERIA_EPS + cv2 . TERM_CRITERIA_MAX_ITER , 30 , 1e-6))\n",
    "# Let ’s rectify our results\n",
    "map1 , map2 = cv2 . fisheye . initUndistortRectifyMap (K , D , np . eye (3) , K , image_size ,\n",
    "cv2 . CV_16SC2 )\n",
    "\n",
    "cv2.waitKey()\n",
    "cv2.destroyAllWindows()"
   ]
  },
  {
   "cell_type": "code",
   "execution_count": 13,
   "metadata": {},
   "outputs": [
    {
     "name": "stdout",
     "output_type": "stream",
     "text": [
      "[[335.39632033   0.         345.29507827]\n",
      " [  0.         335.22731983 232.92881023]\n",
      " [  0.           0.           1.        ]]\n"
     ]
    }
   ],
   "source": [
    "print(K)"
   ]
  },
  {
   "cell_type": "code",
   "execution_count": 22,
   "metadata": {},
   "outputs": [],
   "source": [
    "\n",
    "image = cv2 . imread ( image_dir +\"left_%02d.png\"%6)\n",
    "undistorted_image = cv2 . remap ( image , map1 , map2 , interpolation = cv2 . INTER_LINEAR ,borderMode = cv2 . BORDER_CONSTANT )\n",
    "cv2.line(undistorted_image, (10,10), (100,100), (0,0,255), 3) \n",
    "cv2 . imshow (\" Corners \", undistorted_image )\n",
    "cv2.waitKey()\n",
    "cv2.destroyAllWindows()"
   ]
  }
 ],
 "metadata": {
  "kernelspec": {
   "display_name": "Python 3",
   "language": "python",
   "name": "python3"
  },
  "language_info": {
   "codemirror_mode": {
    "name": "ipython",
    "version": 3
   },
   "file_extension": ".py",
   "mimetype": "text/x-python",
   "name": "python",
   "nbconvert_exporter": "python",
   "pygments_lexer": "ipython3",
   "version": "3.9.0"
  }
 },
 "nbformat": 4,
 "nbformat_minor": 2
}
