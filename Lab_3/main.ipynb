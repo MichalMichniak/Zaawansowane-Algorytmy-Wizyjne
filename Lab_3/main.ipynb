{
 "cells": [
  {
   "cell_type": "code",
   "execution_count": 138,
   "metadata": {},
   "outputs": [
    {
     "data": {
      "text/plain": [
       "(288, 352, 3)"
      ]
     },
     "execution_count": 138,
     "metadata": {},
     "output_type": "execute_result"
    }
   ],
   "source": [
    "import cv2\n",
    "\n",
    "I = cv2.imread(\"pedestrians_empty_bg.jpg\")\n",
    "I.shape"
   ]
  },
  {
   "cell_type": "code",
   "execution_count": 139,
   "metadata": {},
   "outputs": [],
   "source": [
    "import numpy as np\n",
    "import matplotlib.pyplot as plt\n",
    "N = 50\n",
    "\n",
    "BUF = np . zeros (( 288 ,352 ,N) , np . uint8 )\n",
    "iN = 0\n",
    "\n",
    "cap = cv2.VideoCapture(\"pedestrians_input.mp4\")\n",
    "filter_cl1 = np.array([[0,1,1,1,0],[1,1,1,1,1],[1,1,1,1,1],[1,1,1,1,1],[0,1,1,1,0]]).astype(np.uint8)\n",
    "filter_cl2 = np.array([[0,1,0],[1,1,1],[1,1,1],[1,1,1],[0,1,0]]).astype(np.uint8)\n",
    "\n",
    "while(cap.isOpened()):\n",
    "    ret, frame = cap.read()\n",
    "    if(frame is None): \n",
    "        break\n",
    "    img_gray = cv2.cvtColor(frame, cv2.COLOR_BGR2GRAY)\n",
    "    \n",
    "    BUF[:,:,iN] = img_gray.copy()\n",
    "    iN = (iN+1)%N\n",
    "    median_img = np.median(BUF,axis=2).astype(np.uint8)\n",
    "    # print(median_img)\n",
    "    # plt.imshow(median_img)\n",
    "    # plt.show()\n",
    "    abs_dif_img = ((cv2.absdiff(median_img,img_gray)>15)*255).astype(np.uint8)\n",
    "    abs_dif_img = cv2.medianBlur(abs_dif_img,7)\n",
    "    abs_dif_img = cv2.dilate(abs_dif_img, filter_cl1,iterations=1)\n",
    "    abs_dif_img = cv2.erode(abs_dif_img, filter_cl2,iterations=1)\n",
    "    \n",
    "    cv2.imshow(\"median\", abs_dif_img)\n",
    "    # cv2.waitKey (1)\n",
    "    cv2.imshow(\"frame\", frame)\n",
    "    cv2.waitKey (1)\n",
    "cap.release()\n",
    "cv2.destroyAllWindows()"
   ]
  },
  {
   "cell_type": "code",
   "execution_count": 140,
   "metadata": {},
   "outputs": [],
   "source": [
    "def detect_move(I,iN,N,BUF):\n",
    "    filter_cl1 = np.array([[0,1,1,1,0],[1,1,1,1,1],[1,1,1,1,1],[1,1,1,1,1],[0,1,1,1,0]]).astype(np.uint8)\n",
    "    filter_cl2 = np.array([[0,1,0],[1,1,1],[1,1,1],[1,1,1],[0,1,0]]).astype(np.uint8)\n",
    "    I = I.astype(\"uint8\")\n",
    "    img_gray = cv2.cvtColor(I.astype(\"uint8\"), cv2.COLOR_BGR2GRAY)\n",
    "    BUF[:,:,iN] = img_gray.copy()\n",
    "    iN = (iN+1)%N\n",
    "    median_img = np.median(BUF,axis=2).astype(np.uint8)\n",
    "    abs_dif_img = ((cv2.absdiff(median_img,img_gray)>15)*255).astype(np.uint8)\n",
    "    abs_dif_img = cv2.medianBlur(abs_dif_img,5)\n",
    "    abs_dif_img = cv2.dilate(abs_dif_img, filter_cl2,iterations=3)\n",
    "    abs_dif_img = cv2.erode(abs_dif_img, filter_cl2,iterations=2)\n",
    "    return abs_dif_img, iN, BUF\n",
    "\n",
    "def detect_move2(I,iN,N,BUF):\n",
    "    filter_cl1 = np.array([[0,1,1,1,0],[1,1,1,1,1],[1,1,1,1,1],[1,1,1,1,1],[0,1,1,1,0]]).astype(np.uint8)\n",
    "    filter_cl2 = np.array([[0,1,0],[1,1,1],[1,1,1],[1,1,1],[0,1,0]]).astype(np.uint8)\n",
    "    I = I.astype(\"uint8\")\n",
    "    img_gray = cv2.cvtColor(I.astype(\"uint8\"), cv2.COLOR_BGR2GRAY)\n",
    "    BUF[:,:,iN] = img_gray.copy()\n",
    "    iN = (iN+1)%N\n",
    "    median_img = np.mean(BUF,axis=2).astype(np.uint8)\n",
    "    abs_dif_img = ((cv2.absdiff(median_img,img_gray)>15)*255).astype(np.uint8)\n",
    "    abs_dif_img = cv2.medianBlur(abs_dif_img,5)\n",
    "    abs_dif_img = cv2.dilate(abs_dif_img, filter_cl1,iterations=1)\n",
    "    abs_dif_img = cv2.erode(abs_dif_img, filter_cl2,iterations=1)\n",
    "    return abs_dif_img, iN, BUF"
   ]
  },
  {
   "cell_type": "code",
   "execution_count": 141,
   "metadata": {},
   "outputs": [],
   "source": [
    "import cv2\n",
    "import numpy as np\n",
    "import copy\n",
    "\n",
    "N = 4\n",
    "\n",
    "BUF = np . zeros (( 240 ,360 ,N) , np . uint8 )\n",
    "iN = 0\n",
    "\n",
    "filter_cl1 = np.array([[0,1,1,1,0],[1,1,1,1,1],[1,1,1,1,1],[1,1,1,1,1],[0,1,1,1,0]]).astype(np.uint8)\n",
    "filter_cl2 = np.array([[0,1,0],[1,1,1],[1,1,1],[1,1,1],[0,1,0]]).astype(np.uint8)\n",
    "\n",
    "for i in range (301 ,1100):\n",
    "    I = cv2.imread (f'pedestrian/input/in{i:06d}.jpg')\n",
    "    abs_dif_img, iN, BUF = detect_move2(I,iN,N,BUF)\n",
    "\n",
    "\n",
    "    cv2.imshow(\"median\", abs_dif_img)\n",
    "    cv2.waitKey (1)\n",
    "    cv2.imshow(\"frame\", I)\n",
    "    cv2.waitKey (1)\n",
    "cv2.destroyAllWindows()"
   ]
  },
  {
   "cell_type": "code",
   "execution_count": 142,
   "metadata": {},
   "outputs": [],
   "source": [
    "import cv2\n",
    "import numpy as np\n",
    "import copy\n",
    "\n",
    "N = 4\n",
    "\n",
    "BUF = np . zeros (( 240 ,360 ,N) , np . uint8 )\n",
    "iN = 0\n",
    "\n",
    "filter_cl1 = np.array([[0,1,1,1,0],[1,1,1,1,1],[1,1,1,1,1],[1,1,1,1,1],[0,1,1,1,0]]).astype(np.uint8)\n",
    "filter_cl2 = np.array([[0,1,0],[1,1,1],[1,1,1],[1,1,1],[0,1,0]]).astype(np.uint8)\n",
    "\n",
    "for i in range (301 ,1100):\n",
    "    I = cv2.imread (f'pedestrian/input/in{i:06d}.jpg')\n",
    "    abs_dif_img, iN, BUF = detect_move(I,iN,N,BUF)\n",
    "\n",
    "\n",
    "    cv2.imshow(\"median\", abs_dif_img)\n",
    "    cv2.waitKey (1)\n",
    "    cv2.imshow(\"frame\", I)\n",
    "    cv2.waitKey (1)\n",
    "cv2.destroyAllWindows()"
   ]
  },
  {
   "cell_type": "code",
   "execution_count": 143,
   "metadata": {},
   "outputs": [
    {
     "name": "stdout",
     "output_type": "stream",
     "text": [
      "Precision: 0.67055912804932, Recall: 0.14286701876523542, F1: 0.2355488175672394\n",
      "\n"
     ]
    }
   ],
   "source": [
    "I_prev = cv2.imread (f'pedestrian/input/in{300:06d}.jpg' )\n",
    "I_prev = I_prev.astype('int')\n",
    "\n",
    "TP = 0\n",
    "TN = 0\n",
    "FP = 0\n",
    "FN = 0\n",
    "\n",
    "N = 4\n",
    "BUF = np . zeros (( 240 ,360 ,N) , np . uint8 )\n",
    "iN = 0\n",
    "\n",
    "for i in range (301 ,1100):\n",
    "    I = cv2.imread (f'office/input/in{i:06d}.jpg')\n",
    "    I_ground = cv2.imread (f'office/groundtruth/gt{i:06d}.png')\n",
    "    I_ground = (np.sum(I_ground,axis=2)/3).astype(np.uint8)\n",
    "    I_ground_b = I_ground>110\n",
    "    I = I.astype('int')\n",
    "    abs_dif_img, iN, BUF = detect_move2(I,iN,N,BUF)\n",
    "    binary_I_b = abs_dif_img>50\n",
    "    TP_s = np.sum((I_ground_b & binary_I_b).astype(int))\n",
    "    TN_s = np.sum((~I_ground_b & ~binary_I_b).astype(int))\n",
    "    FP_s = np.sum((~I_ground_b & binary_I_b).astype(int))\n",
    "    FN_s = np.sum((I_ground_b & ~binary_I_b).astype(int))\n",
    "    TP+=TP_s\n",
    "    TN+=TN_s\n",
    "    FP+=FP_s\n",
    "    FN+=FN_s\n",
    "    I_prev = I\n",
    "\n",
    "precision = TP/(TP+FP)\n",
    "recall = TP/(TP+FN)\n",
    "print(f\"Precision: {precision}, Recall: {recall}, F1: {(2*precision*recall/(precision+recall))}\\n\")"
   ]
  },
  {
   "cell_type": "code",
   "execution_count": 144,
   "metadata": {},
   "outputs": [
    {
     "name": "stdout",
     "output_type": "stream",
     "text": [
      "Precision: 0.67055912804932, Recall: 0.14286701876523542, F1: 0.2355488175672394\n",
      "\n"
     ]
    }
   ],
   "source": [
    "I_prev = cv2.imread (f'pedestrian/input/in{300:06d}.jpg' )\n",
    "I_prev = I_prev.astype('int')\n",
    "\n",
    "TP = 0\n",
    "TN = 0\n",
    "FP = 0\n",
    "FN = 0\n",
    "\n",
    "N = 4\n",
    "BUF = np . zeros (( 240 ,360 ,N) , np . uint8 )\n",
    "iN = 0\n",
    "\n",
    "for i in range (301 ,1100):\n",
    "    I = cv2.imread (f'office/input/in{i:06d}.jpg')\n",
    "    I_ground = cv2.imread (f'office/groundtruth/gt{i:06d}.png')\n",
    "    I_ground = (np.sum(I_ground,axis=2)/3).astype(np.uint8)\n",
    "    I_ground_b = I_ground>110\n",
    "    I = I.astype('int')\n",
    "    abs_dif_img, iN, BUF = detect_move2(I,iN,N,BUF)\n",
    "    binary_I_b = abs_dif_img>50\n",
    "    TP_s = np.sum((I_ground_b & binary_I_b).astype(int))\n",
    "    TN_s = np.sum((~I_ground_b & ~binary_I_b).astype(int))\n",
    "    FP_s = np.sum((~I_ground_b & binary_I_b).astype(int))\n",
    "    FN_s = np.sum((I_ground_b & ~binary_I_b).astype(int))\n",
    "    TP+=TP_s\n",
    "    TN+=TN_s\n",
    "    FP+=FP_s\n",
    "    FN+=FN_s\n",
    "    I_prev = I\n",
    "\n",
    "precision = TP/(TP+FP)\n",
    "recall = TP/(TP+FN)\n",
    "print(f\"Precision: {precision}, Recall: {recall}, F1: {(2*precision*recall/(precision+recall))}\\n\")"
   ]
  },
  {
   "cell_type": "code",
   "execution_count": 145,
   "metadata": {},
   "outputs": [],
   "source": [
    "import cv2\n",
    "import numpy as np\n",
    "import copy\n",
    "\n",
    "N = 10\n",
    "\n",
    "BUF = np . zeros (( 240 ,360 ,N) , np . uint8 )\n",
    "iN = 0\n",
    "\n",
    "filter_cl1 = np.array([[0,1,1,1,0],[1,1,1,1,1],[1,1,1,1,1],[1,1,1,1,1],[0,1,1,1,0]]).astype(np.uint8)\n",
    "filter_cl2 = np.array([[0,1,0],[1,1,1],[1,1,1],[1,1,1],[0,1,0]]).astype(np.uint8)\n",
    "\n",
    "for i in range (301 ,1100):\n",
    "    I = cv2.imread (f'office/input/in{i:06d}.jpg')\n",
    "    abs_dif_img, iN, BUF = detect_move2(I,iN,N,BUF)\n",
    "\n",
    "\n",
    "    cv2.imshow(\"median\", abs_dif_img)\n",
    "    cv2.waitKey (1)\n",
    "    cv2.imshow(\"frame\", I)\n",
    "    cv2.waitKey (1)\n",
    "cv2.destroyAllWindows()"
   ]
  },
  {
   "cell_type": "code",
   "execution_count": 146,
   "metadata": {},
   "outputs": [],
   "source": [
    "import cv2\n",
    "import numpy as np\n",
    "import copy\n",
    "\n",
    "N = 10\n",
    "\n",
    "BUF = np . zeros (( 240 ,360 ,N) , np . uint8 )\n",
    "iN = 0\n",
    "\n",
    "filter_cl1 = np.array([[0,1,1,1,0],[1,1,1,1,1],[1,1,1,1,1],[1,1,1,1,1],[0,1,1,1,0]]).astype(np.uint8)\n",
    "filter_cl2 = np.array([[0,1,0],[1,1,1],[1,1,1],[1,1,1],[0,1,0]]).astype(np.uint8)\n",
    "\n",
    "for i in range (301 ,1100):\n",
    "    I = cv2.imread (f'office/input/in{i:06d}.jpg')\n",
    "    abs_dif_img, iN, BUF = detect_move(I,iN,N,BUF)\n",
    "\n",
    "\n",
    "    cv2.imshow(\"median\", abs_dif_img)\n",
    "    cv2.waitKey (1)\n",
    "    cv2.imshow(\"frame\", I)\n",
    "    cv2.waitKey (1)\n",
    "cv2.destroyAllWindows()"
   ]
  },
  {
   "cell_type": "code",
   "execution_count": 147,
   "metadata": {},
   "outputs": [
    {
     "name": "stdout",
     "output_type": "stream",
     "text": [
      "Precision: 0.5766676728784238, Recall: 0.30665255758524174, F1: 0.4003907318460815\n",
      "\n"
     ]
    }
   ],
   "source": [
    "I_prev = cv2.imread (f'pedestrian/input/in{300:06d}.jpg' )\n",
    "I_prev = I_prev.astype('int')\n",
    "\n",
    "TP = 0\n",
    "TN = 0\n",
    "FP = 0\n",
    "FN = 0\n",
    "\n",
    "N = 10\n",
    "BUF = np . zeros (( 240 ,360 ,N) , np . uint8 )\n",
    "iN = 0\n",
    "\n",
    "for i in range (301 ,1100):\n",
    "    I = cv2.imread (f'office/input/in{i:06d}.jpg')\n",
    "    I_ground = cv2.imread (f'office/groundtruth/gt{i:06d}.png')\n",
    "    I_ground = (np.sum(I_ground,axis=2)/3).astype(np.uint8)\n",
    "    I_ground_b = I_ground>110\n",
    "    I = I.astype('int')\n",
    "    abs_dif_img, iN, BUF = detect_move2(I,iN,N,BUF)\n",
    "    binary_I_b = abs_dif_img>50\n",
    "    TP_s = np.sum((I_ground_b & binary_I_b).astype(int))\n",
    "    TN_s = np.sum((~I_ground_b & ~binary_I_b).astype(int))\n",
    "    FP_s = np.sum((~I_ground_b & binary_I_b).astype(int))\n",
    "    FN_s = np.sum((I_ground_b & ~binary_I_b).astype(int))\n",
    "    TP+=TP_s\n",
    "    TN+=TN_s\n",
    "    FP+=FP_s\n",
    "    FN+=FN_s\n",
    "    I_prev = I\n",
    "\n",
    "precision = TP/(TP+FP)\n",
    "recall = TP/(TP+FN)\n",
    "print(f\"Precision: {precision}, Recall: {recall}, F1: {(2*precision*recall/(precision+recall))}\\n\")"
   ]
  },
  {
   "cell_type": "code",
   "execution_count": 148,
   "metadata": {},
   "outputs": [
    {
     "name": "stdout",
     "output_type": "stream",
     "text": [
      "Precision: 0.6762275965076606, Recall: 0.3306550169856267, F1: 0.44413925598265525\n",
      "\n"
     ]
    }
   ],
   "source": [
    "I_prev = cv2.imread (f'pedestrian/input/in{300:06d}.jpg' )\n",
    "I_prev = I_prev.astype('int')\n",
    "\n",
    "TP = 0\n",
    "TN = 0\n",
    "FP = 0\n",
    "FN = 0\n",
    "\n",
    "N = 10\n",
    "BUF = np . zeros (( 240 ,360 ,N) , np . uint8 )\n",
    "iN = 0\n",
    "\n",
    "for i in range (301 ,1100):\n",
    "    I = cv2.imread (f'office/input/in{i:06d}.jpg')\n",
    "    I_ground = cv2.imread (f'office/groundtruth/gt{i:06d}.png')\n",
    "    I_ground = (np.sum(I_ground,axis=2)/3).astype(np.uint8)\n",
    "    I_ground_b = I_ground>110\n",
    "    I = I.astype('int')\n",
    "    abs_dif_img, iN, BUF = detect_move(I,iN,N,BUF)\n",
    "    binary_I_b = abs_dif_img>50\n",
    "    TP_s = np.sum((I_ground_b & binary_I_b).astype(int))\n",
    "    TN_s = np.sum((~I_ground_b & ~binary_I_b).astype(int))\n",
    "    FP_s = np.sum((~I_ground_b & binary_I_b).astype(int))\n",
    "    FN_s = np.sum((I_ground_b & ~binary_I_b).astype(int))\n",
    "    TP+=TP_s\n",
    "    TN+=TN_s\n",
    "    FP+=FP_s\n",
    "    FN+=FN_s\n",
    "    I_prev = I\n",
    "\n",
    "precision = TP/(TP+FP)\n",
    "recall = TP/(TP+FN)\n",
    "print(f\"Precision: {precision}, Recall: {recall}, F1: {(2*precision*recall/(precision+recall))}\\n\")"
   ]
  },
  {
   "cell_type": "markdown",
   "metadata": {},
   "source": [
    "Aproksymacja sredniej i mediany (tzw. sigma-delta)"
   ]
  },
  {
   "cell_type": "code",
   "execution_count": 28,
   "metadata": {},
   "outputs": [],
   "source": [
    "def sigma_delta_mean(I, BUF, alpha = 0.04):\n",
    "    filter_cl1 = np.array([[0,1,1,1,0],[1,1,1,1,1],[1,1,1,1,1],[1,1,1,1,1],[0,1,1,1,0]]).astype(np.uint8)\n",
    "    filter_cl2 = np.array([[0,1,0],[1,1,1],[1,1,1],[1,1,1],[0,1,0]]).astype(np.uint8)\n",
    "    I = I.astype(\"uint8\")\n",
    "    img_gray = cv2.cvtColor(I.astype(\"uint8\"), cv2.COLOR_BGR2GRAY) \n",
    "    mean_img = BUF.astype(np.uint8)\n",
    "    abs_dif_img = ((cv2.absdiff(mean_img,img_gray)>25)*255).astype(np.uint8)\n",
    "    abs_dif_img = cv2.medianBlur(abs_dif_img,7)\n",
    "    # abs_dif_img = cv2.dilate(abs_dif_img, filter_cl2,iterations=1)\n",
    "    # abs_dif_img = cv2.erode(abs_dif_img, filter_cl2,iterations=1)\n",
    "    BUF = BUF*(1-alpha) + alpha*img_gray.astype(np.float32)\n",
    "    return abs_dif_img, BUF\n",
    "\n",
    "\n",
    "def sigma_delta_median(I, BUF, alpha = 2):\n",
    "    filter_cl1 = np.array([[0,1,1,1,0],[1,1,1,1,1],[1,1,1,1,1],[1,1,1,1,1],[0,1,1,1,0]]).astype(np.uint8)\n",
    "    filter_cl2 = np.array([[0,1,0],[1,1,1],[1,1,1],[1,1,1],[0,1,0]]).astype(np.uint8)\n",
    "    I = I.astype(\"uint8\")\n",
    "    img_gray = cv2.cvtColor(I.astype(\"uint8\"), cv2.COLOR_BGR2GRAY) \n",
    "    median_img = BUF.astype(np.uint8)\n",
    "    abs_dif_img = ((cv2.absdiff(median_img,img_gray)>15)*255).astype(np.uint8)\n",
    "    abs_dif_img = cv2.medianBlur(abs_dif_img,5)\n",
    "    # abs_dif_img = cv2.dilate(abs_dif_img, filter_cl2,iterations=1)\n",
    "    # abs_dif_img = cv2.erode(abs_dif_img, filter_cl2,iterations=1)\n",
    "    BUF_plus = BUF < img_gray; \n",
    "    BUF_minus = BUF > img_gray; \n",
    "    BUF = BUF+(BUF_plus.astype(np.float32)-BUF_minus.astype(np.float32))*alpha\n",
    "    return abs_dif_img, BUF\n",
    "    "
   ]
  },
  {
   "cell_type": "code",
   "execution_count": 29,
   "metadata": {},
   "outputs": [],
   "source": [
    "cv2.destroyAllWindows()"
   ]
  },
  {
   "cell_type": "code",
   "execution_count": 30,
   "metadata": {},
   "outputs": [],
   "source": [
    "import cv2\n",
    "import numpy as np\n",
    "import copy\n",
    "\n",
    "I = cv2.imread (f'pedestrian/input/in{i:06d}.jpg')\n",
    "I = I.astype(\"uint8\")\n",
    "img_gray = cv2.cvtColor(I.astype(\"uint8\"), cv2.COLOR_BGR2GRAY) \n",
    "BUF = img_gray.astype(np.float32)\n",
    "\n",
    "\n",
    "filter_cl1 = np.array([[0,1,1,1,0],[1,1,1,1,1],[1,1,1,1,1],[1,1,1,1,1],[0,1,1,1,0]]).astype(np.uint8)\n",
    "filter_cl2 = np.array([[0,1,0],[1,1,1],[1,1,1],[1,1,1],[0,1,0]]).astype(np.uint8)\n",
    "\n",
    "for i in range (301 ,1100):\n",
    "    I = cv2.imread (f'pedestrian/input/in{i:06d}.jpg')\n",
    "    abs_dif_img, BUF = sigma_delta_mean(I,BUF)\n",
    "    cv2.imshow(\"median\", abs_dif_img)\n",
    "    cv2.waitKey (1)\n",
    "    cv2.imshow(\"frame\", I)\n",
    "    cv2.waitKey (1)\n",
    "cv2.destroyAllWindows()"
   ]
  },
  {
   "cell_type": "code",
   "execution_count": 31,
   "metadata": {},
   "outputs": [],
   "source": [
    "import cv2\n",
    "import numpy as np\n",
    "import copy\n",
    "\n",
    "I = cv2.imread (f'pedestrian/input/in{i:06d}.jpg')\n",
    "I = I.astype(\"uint8\")\n",
    "img_gray = cv2.cvtColor(I.astype(\"uint8\"), cv2.COLOR_BGR2GRAY) \n",
    "BUF = img_gray.astype(np.float32)\n",
    "\n",
    "\n",
    "filter_cl1 = np.array([[0,1,1,1,0],[1,1,1,1,1],[1,1,1,1,1],[1,1,1,1,1],[0,1,1,1,0]]).astype(np.uint8)\n",
    "filter_cl2 = np.array([[0,1,0],[1,1,1],[1,1,1],[1,1,1],[0,1,0]]).astype(np.uint8)\n",
    "\n",
    "for i in range (301 ,1100):\n",
    "    I = cv2.imread (f'pedestrian/input/in{i:06d}.jpg')\n",
    "    abs_dif_img, BUF = sigma_delta_median(I,BUF)\n",
    "    cv2.imshow(\"median\", abs_dif_img)\n",
    "    cv2.waitKey (1)\n",
    "    cv2.imshow(\"frame\", I)\n",
    "    cv2.waitKey (1)\n",
    "cv2.destroyAllWindows()"
   ]
  },
  {
   "cell_type": "code",
   "execution_count": 32,
   "metadata": {},
   "outputs": [
    {
     "name": "stdout",
     "output_type": "stream",
     "text": [
      "Precision: 0.8721861663579998, Recall: 0.16011105815553398, F1: 0.2705551205371222\n",
      "\n"
     ]
    }
   ],
   "source": [
    "I_prev = cv2.imread (f'pedestrian/input/in{300:06d}.jpg' )\n",
    "I_prev = I_prev.astype('int')\n",
    "\n",
    "TP = 0\n",
    "TN = 0\n",
    "FP = 0\n",
    "FN = 0\n",
    "\n",
    "N = 10\n",
    "\n",
    "I = cv2.imread (f'pedestrian/input/in{i:06d}.jpg')\n",
    "I = I.astype(\"uint8\")\n",
    "img_gray = cv2.cvtColor(I.astype(\"uint8\"), cv2.COLOR_BGR2GRAY) \n",
    "BUF = img_gray.astype(np.float32)\n",
    "\n",
    "iN = 0\n",
    "\n",
    "for i in range (301 ,1100):\n",
    "    I = cv2.imread (f'office/input/in{i:06d}.jpg')\n",
    "    I_ground = cv2.imread (f'office/groundtruth/gt{i:06d}.png')\n",
    "    I_ground = (np.sum(I_ground,axis=2)/3).astype(np.uint8)\n",
    "    I_ground_b = I_ground>80\n",
    "    I = I.astype('int')\n",
    "    abs_dif_img, BUF = sigma_delta_mean(I,BUF)\n",
    "    binary_I_b = abs_dif_img>50\n",
    "    TP_s = np.sum((I_ground_b & binary_I_b).astype(int))\n",
    "    TN_s = np.sum((~I_ground_b & ~binary_I_b).astype(int))\n",
    "    FP_s = np.sum((~I_ground_b & binary_I_b).astype(int))\n",
    "    FN_s = np.sum((I_ground_b & ~binary_I_b).astype(int))\n",
    "    TP+=TP_s\n",
    "    TN+=TN_s\n",
    "    FP+=FP_s\n",
    "    FN+=FN_s\n",
    "    I_prev = I\n",
    "\n",
    "precision = TP/(TP+FP)\n",
    "recall = TP/(TP+FN)\n",
    "print(f\"Precision: {precision}, Recall: {recall}, F1: {(2*precision*recall/(precision+recall))}\\n\")"
   ]
  },
  {
   "cell_type": "code",
   "execution_count": 33,
   "metadata": {},
   "outputs": [
    {
     "name": "stdout",
     "output_type": "stream",
     "text": [
      "Precision: 0.9197203654488287, Recall: 0.2302221728512166, F1: 0.36826191552520293\n",
      "\n"
     ]
    }
   ],
   "source": [
    "I_prev = cv2.imread (f'pedestrian/input/in{300:06d}.jpg' )\n",
    "I_prev = I_prev.astype('int')\n",
    "\n",
    "TP = 0\n",
    "TN = 0\n",
    "FP = 0\n",
    "FN = 0\n",
    "\n",
    "N = 10\n",
    "\n",
    "I = cv2.imread (f'pedestrian/input/in{i:06d}.jpg')\n",
    "I = I.astype(\"uint8\")\n",
    "img_gray = cv2.cvtColor(I.astype(\"uint8\"), cv2.COLOR_BGR2GRAY) \n",
    "BUF = img_gray.astype(np.float32)\n",
    "\n",
    "iN = 0\n",
    "\n",
    "for i in range (301 ,1100):\n",
    "    I = cv2.imread (f'office/input/in{i:06d}.jpg')\n",
    "    I_ground = cv2.imread (f'office/groundtruth/gt{i:06d}.png')\n",
    "    I_ground = (np.sum(I_ground,axis=2)/3).astype(np.uint8)\n",
    "    I_ground_b = I_ground>80\n",
    "    I = I.astype('int')\n",
    "    abs_dif_img, BUF = sigma_delta_median(I,BUF)\n",
    "    binary_I_b = abs_dif_img>50\n",
    "    TP_s = np.sum((I_ground_b & binary_I_b).astype(int))\n",
    "    TN_s = np.sum((~I_ground_b & ~binary_I_b).astype(int))\n",
    "    FP_s = np.sum((~I_ground_b & binary_I_b).astype(int))\n",
    "    FN_s = np.sum((I_ground_b & ~binary_I_b).astype(int))\n",
    "    TP+=TP_s\n",
    "    TN+=TN_s\n",
    "    FP+=FP_s\n",
    "    FN+=FN_s\n",
    "    I_prev = I\n",
    "\n",
    "precision = TP/(TP+FP)\n",
    "recall = TP/(TP+FN)\n",
    "print(f\"Precision: {precision}, Recall: {recall}, F1: {(2*precision*recall/(precision+recall))}\\n\")"
   ]
  },
  {
   "cell_type": "markdown",
   "metadata": {},
   "source": [
    "Polityka aktualizacji"
   ]
  },
  {
   "cell_type": "code",
   "execution_count": 34,
   "metadata": {},
   "outputs": [],
   "source": [
    "\n",
    "def sigma_delta_median_cons(I, BUF, alpha = 2):\n",
    "    filter_cl1 = np.array([[0,1,1,1,0],[1,1,1,1,1],[1,1,1,1,1],[1,1,1,1,1],[0,1,1,1,0]]).astype(np.uint8)\n",
    "    filter_cl2 = np.array([[0,1,0],[1,1,1],[1,1,1],[1,1,1],[0,1,0]]).astype(np.uint8)\n",
    "    I = I.astype(\"uint8\")\n",
    "    img_gray = cv2.cvtColor(I.astype(\"uint8\"), cv2.COLOR_BGR2GRAY) \n",
    "    median_img = BUF.astype(np.uint8)\n",
    "    abs_dif_img = ((cv2.absdiff(median_img,img_gray)>20)*255).astype(np.uint8)\n",
    "    abs_dif_img = cv2.medianBlur(abs_dif_img,7)\n",
    "    \n",
    "    \n",
    "    BUF_plus = BUF < img_gray; \n",
    "    BUF_minus = BUF > img_gray; \n",
    "    BUF = BUF+((BUF_plus.astype(np.float32)-BUF_minus.astype(np.float32))*alpha)*(abs_dif_img<30).astype(np.uint8)\n",
    "    return abs_dif_img, BUF\n",
    "    "
   ]
  },
  {
   "cell_type": "code",
   "execution_count": 9,
   "metadata": {},
   "outputs": [],
   "source": [
    "import cv2\n",
    "import numpy as np\n",
    "import copy\n",
    "\n",
    "I = cv2.imread (f'pedestrian/input/in{i:06d}.jpg')\n",
    "I = I.astype(\"uint8\")\n",
    "img_gray = cv2.cvtColor(I.astype(\"uint8\"), cv2.COLOR_BGR2GRAY) \n",
    "BUF = img_gray.astype(np.float32)\n",
    "prev = np.zeros(img_gray.shape)\n",
    "\n",
    "for i in range (301 ,1100):\n",
    "    I = cv2.imread (f'pedestrian/input/in{i:06d}.jpg')\n",
    "    abs_dif_img, BUF = sigma_delta_median_cons(I,BUF,prev)\n",
    "    prev = abs_dif_img.copy()\n",
    "    cv2.imshow(\"median\", abs_dif_img)\n",
    "    cv2.waitKey (1)\n",
    "    cv2.imshow(\"frame\", I)\n",
    "    cv2.waitKey (1)\n",
    "cv2.destroyAllWindows()"
   ]
  },
  {
   "cell_type": "code",
   "execution_count": 35,
   "metadata": {},
   "outputs": [
    {
     "name": "stdout",
     "output_type": "stream",
     "text": [
      "Precision: 0.41161489243060245, Recall: 0.9057012314333516, F1: 0.5659994714969482\n",
      "\n"
     ]
    }
   ],
   "source": [
    "I_prev = cv2.imread (f'pedestrian/input/in{300:06d}.jpg' )\n",
    "I_prev = I_prev.astype('int')\n",
    "\n",
    "TP = 0\n",
    "TN = 0\n",
    "FP = 0\n",
    "FN = 0\n",
    "\n",
    "I = cv2.imread (f'pedestrian/input/in{i:06d}.jpg')\n",
    "I = I.astype(\"uint8\")\n",
    "img_gray = cv2.cvtColor(I.astype(\"uint8\"), cv2.COLOR_BGR2GRAY) \n",
    "BUF = img_gray.astype(np.float32)\n",
    "\n",
    "iN = 0\n",
    "\n",
    "for i in range (301 ,1100):\n",
    "    I = cv2.imread (f'office/input/in{i:06d}.jpg')\n",
    "    I_ground = cv2.imread (f'office/groundtruth/gt{i:06d}.png')\n",
    "    I_ground = (np.sum(I_ground,axis=2)/3).astype(np.uint8)\n",
    "    I_ground_b = I_ground>80\n",
    "    I = I.astype('int')\n",
    "    abs_dif_img, BUF = sigma_delta_median_cons(I,BUF)\n",
    "    binary_I_b = abs_dif_img>50\n",
    "    TP_s = np.sum((I_ground_b & binary_I_b).astype(int))\n",
    "    TN_s = np.sum((~I_ground_b & ~binary_I_b).astype(int))\n",
    "    FP_s = np.sum((~I_ground_b & binary_I_b).astype(int))\n",
    "    FN_s = np.sum((I_ground_b & ~binary_I_b).astype(int))\n",
    "    TP+=TP_s\n",
    "    TN+=TN_s\n",
    "    FP+=FP_s\n",
    "    FN+=FN_s\n",
    "    I_prev = I\n",
    "\n",
    "precision = TP/(TP+FP)\n",
    "recall = TP/(TP+FN)\n",
    "print(f\"Precision: {precision}, Recall: {recall}, F1: {(2*precision*recall/(precision+recall))}\\n\")"
   ]
  },
  {
   "cell_type": "markdown",
   "metadata": {},
   "source": [
    "OpenCV – GMM/MOG"
   ]
  },
  {
   "cell_type": "code",
   "execution_count": 171,
   "metadata": {},
   "outputs": [],
   "source": [
    "cv2.destroyAllWindows()"
   ]
  },
  {
   "cell_type": "code",
   "execution_count": 36,
   "metadata": {},
   "outputs": [],
   "source": [
    "import cv2\n",
    "import numpy as np\n",
    "import copy\n",
    "\n",
    "BGS_MOG2 = cv2.createBackgroundSubtractorMOG2( history = 40 , varThreshold = 24, detectShadows = True)\n",
    "\n",
    "for i in range (301 ,1100):\n",
    "    I = cv2.imread (f'pedestrian/input/in{i:06d}.jpg')\n",
    "    I = I.astype(\"uint8\")\n",
    "    img_gray = cv2.cvtColor(I.astype(\"uint8\"), cv2.COLOR_BGR2GRAY)\n",
    "    cv2.imshow(\"median\", BGS_MOG2.apply(img_gray))\n",
    "    cv2.waitKey (1)\n",
    "    cv2.imshow(\"frame\", I)\n",
    "    cv2.waitKey (1)\n",
    "cv2.destroyAllWindows()"
   ]
  },
  {
   "cell_type": "code",
   "execution_count": 37,
   "metadata": {},
   "outputs": [
    {
     "name": "stdout",
     "output_type": "stream",
     "text": [
      "Precision: 0.19862264930999612, Recall: 0.32885445937838864, F1: 0.2476617198481295\n",
      "\n"
     ]
    }
   ],
   "source": [
    "\n",
    "BGS_MOG2 = cv2.createBackgroundSubtractorMOG2(history = 12 , varThreshold = 2,  detectShadows = False)\n",
    "TP = 0\n",
    "TN = 0\n",
    "FP = 0\n",
    "FN = 0\n",
    "\n",
    "\n",
    "\n",
    "for i in range (301 ,1100):\n",
    "    I = cv2.imread (f'office/input/in{i:06d}.jpg')\n",
    "    I_ground = cv2.imread (f'office/groundtruth/gt{i:06d}.png')\n",
    "    I_ground = (np.sum(I_ground,axis=2)/3).astype(np.uint8)\n",
    "    I_ground_b = I_ground>86\n",
    "    I = I.astype(\"uint8\")\n",
    "    img_gray = cv2.cvtColor(I.astype(\"uint8\"), cv2.COLOR_BGR2GRAY)\n",
    "\n",
    "    abs_dif_img = BGS_MOG2.apply(img_gray)\n",
    "    binary_I_b = abs_dif_img>50\n",
    "    TP_s = np.sum((I_ground_b & binary_I_b).astype(int))\n",
    "    TN_s = np.sum((~I_ground_b & ~binary_I_b).astype(int))\n",
    "    FP_s = np.sum((~I_ground_b & binary_I_b).astype(int))\n",
    "    FN_s = np.sum((I_ground_b & ~binary_I_b).astype(int))\n",
    "    TP+=TP_s\n",
    "    TN+=TN_s\n",
    "    FP+=FP_s\n",
    "    FN+=FN_s\n",
    "    I_prev = I\n",
    "\n",
    "precision = TP/(TP+FP)\n",
    "recall = TP/(TP+FN)\n",
    "print(f\"Precision: {precision}, Recall: {recall}, F1: {(2*precision*recall/(precision+recall))}\\n\")"
   ]
  },
  {
   "cell_type": "markdown",
   "metadata": {},
   "source": [
    "OpenCV – KNN"
   ]
  },
  {
   "cell_type": "code",
   "execution_count": 1,
   "metadata": {},
   "outputs": [],
   "source": [
    "import cv2\n",
    "import numpy as np\n",
    "import copy\n",
    "\n",
    "BGS_KNN = cv2.createBackgroundSubtractorKNN(detectShadows = True)\n",
    "\n",
    "for i in range (301 ,1100):\n",
    "    I = cv2.imread (f'pedestrian/input/in{i:06d}.jpg')\n",
    "    I = I.astype(\"uint8\")\n",
    "    img_gray = cv2.cvtColor(I.astype(\"uint8\"), cv2.COLOR_BGR2GRAY)\n",
    "    cv2.imshow(\"median\", BGS_KNN.apply(img_gray))\n",
    "    cv2.waitKey (1)\n",
    "    cv2.imshow(\"frame\", I)\n",
    "    cv2.waitKey (1)\n",
    "cv2.destroyAllWindows()"
   ]
  },
  {
   "cell_type": "code",
   "execution_count": 38,
   "metadata": {},
   "outputs": [
    {
     "name": "stdout",
     "output_type": "stream",
     "text": [
      "Precision: 0.7956187098940253, Recall: 0.49457541432333624, F1: 0.6099755776332201\n",
      "\n"
     ]
    }
   ],
   "source": [
    "BGS_KNN = cv2.createBackgroundSubtractorKNN(detectShadows = True)\n",
    "TP = 0\n",
    "TN = 0\n",
    "FP = 0\n",
    "FN = 0\n",
    "\n",
    "\n",
    "\n",
    "for i in range (301 ,1100):\n",
    "    I = cv2.imread (f'office/input/in{i:06d}.jpg')\n",
    "    I_ground = cv2.imread (f'office/groundtruth/gt{i:06d}.png')\n",
    "    I_ground = (np.sum(I_ground,axis=2)/3).astype(np.uint8)\n",
    "    I_ground_b = I_ground>86\n",
    "    I = I.astype(\"uint8\")\n",
    "    img_gray = cv2.cvtColor(I.astype(\"uint8\"), cv2.COLOR_BGR2GRAY)\n",
    "\n",
    "    abs_dif_img = BGS_KNN.apply(img_gray)\n",
    "    binary_I_b = abs_dif_img>50\n",
    "    TP_s = np.sum((I_ground_b & binary_I_b).astype(int))\n",
    "    TN_s = np.sum((~I_ground_b & ~binary_I_b).astype(int))\n",
    "    FP_s = np.sum((~I_ground_b & binary_I_b).astype(int))\n",
    "    FN_s = np.sum((I_ground_b & ~binary_I_b).astype(int))\n",
    "    TP+=TP_s\n",
    "    TN+=TN_s\n",
    "    FP+=FP_s\n",
    "    FN+=FN_s\n",
    "    I_prev = I\n",
    "\n",
    "precision = TP/(TP+FP)\n",
    "recall = TP/(TP+FN)\n",
    "print(f\"Precision: {precision}, Recall: {recall}, F1: {(2*precision*recall/(precision+recall))}\\n\")"
   ]
  },
  {
   "cell_type": "code",
   "execution_count": null,
   "metadata": {},
   "outputs": [],
   "source": []
  }
 ],
 "metadata": {
  "kernelspec": {
   "display_name": "Python 3",
   "language": "python",
   "name": "python3"
  },
  "language_info": {
   "codemirror_mode": {
    "name": "ipython",
    "version": 3
   },
   "file_extension": ".py",
   "mimetype": "text/x-python",
   "name": "python",
   "nbconvert_exporter": "python",
   "pygments_lexer": "ipython3",
   "version": "3.9.13"
  }
 },
 "nbformat": 4,
 "nbformat_minor": 2
}
